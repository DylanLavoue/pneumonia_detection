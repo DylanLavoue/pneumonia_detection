{
 "cells": [
  {
   "attachments": {},
   "cell_type": "markdown",
   "metadata": {},
   "source": [
    "Visualize Gradient Descent\n",
    "1. Setup"
   ]
  },
  {
   "cell_type": "code",
   "execution_count": null,
   "metadata": {
    "vscode": {
     "languageId": "plaintext"
    }
   },
   "outputs": [],
   "source": [
    "# Import base librairies\n",
    "import sys\n",
    "from pathlib import Path\n",
    "from IPython.display import display, Latex\n",
    "\n",
    "# Import scientific librairies\n",
    "import pandas as pd\n",
    "import numpy as np\n",
    "import matplotlib.pyplot as plt\n",
    "import seaborn as sns\n",
    "\n",
    "# Add project directory to kernel paths\n",
    "sys.path.append(\"../..\")"
   ]
  },
  {
   "cell_type": "code",
   "execution_count": null,
   "metadata": {
    "vscode": {
     "languageId": "plaintext"
    }
   },
   "outputs": [],
   "source": [
    "# Import custom functions\n",
    "from src.visualization.plot_lib import default_viz\n",
    "from src.data.file_manager import fetch_full_dataset, check_full_dataset, ProjectInfo\n",
    "\n",
    "zoidbergInfo = ProjectInfo()\n",
    "\n",
    "# Set default graphics visualization\n",
    "%matplotlib inline\n",
    "default_viz()\n",
    "\n",
    "# Latex font\n",
    "plt.rcParams[\"text.usetex\"]=True"
   ]
  },
  {
   "attachments": {},
   "cell_type": "markdown",
   "metadata": {},
   "source": [
    "2. Derivative n = 1"
   ]
  },
  {
   "cell_type": "code",
   "execution_count": null,
   "metadata": {
    "vscode": {
     "languageId": "plaintext"
    }
   },
   "outputs": [],
   "source": [
    "x_1 = 1.85\n",
    "x_2 = 2.7\n",
    "x_3 = 1.5\n",
    "\n",
    "x = np.linspace(1,3,5000)\n",
    "\n",
    "h = 0.01\n",
    "\n",
    "def small_x(a,b=None,dist=0.16):\n",
    "    if b:\n",
    "        return np.linspace(a-dist,b+dist,5000)\n",
    "    else:\n",
    "        return np.linspace(a-dist,a+dist,5000)\n",
    "\n",
    "def J(x):\n",
    "    return x*np.sin(np.power(x,2))\n",
    "\n",
    "def slope(a,b):\n",
    "    return (J(b)-J(a))/(b-a)\n",
    "\n",
    "def tan(x,a,b):\n",
    "    return J(a) + slope(a,b)*(x-a)\n",
    "\n",
    "# Applying Gradient Descent to get the minima\n",
    "x_min = 2\n",
    "for i in range(30):\n",
    "    x_min = x_min - 0.01*slope(x_min, x_min + 0.01)\n",
    "\n",
    "print('Local minima : {:.3f}'.format(x_min))"
   ]
  },
  {
   "attachments": {},
   "cell_type": "markdown",
   "metadata": {},
   "source": [
    "Local minima : 2.189\n",
    "Here we define a specif function \n",
    " such that :\n",
    "\n",
    "with \n",
    ". Then, we use a light version of gradient descent to get its local minima. Its value is equal to \n",
    ".\n",
    "We also define functions to compute the slope of the derivative tangente at any point and the tangente itself."
   ]
  },
  {
   "cell_type": "code",
   "execution_count": null,
   "metadata": {
    "vscode": {
     "languageId": "plaintext"
    }
   },
   "outputs": [],
   "source": [
    "plt.figure(figsize=(14,4))\n",
    "plt.subplot(121)\n",
    "plt.axvline(x=x_1,ymax=(J(x_1)+2.5)/5.5,color='k',linestyle='-.',linewidth=1,alpha=0.6)\n",
    "plt.axvline(x=x_2,ymax=(J(x_2)+2.5)/5.5,color='k',linestyle='-.',linewidth=1,alpha=0.6)\n",
    "plt.axhline(y=J(x_1),xmax=(x_1-1)/2,color='k',linestyle='-.',linewidth=1,alpha=0.6)\n",
    "plt.axhline(y=J(x_2),xmax=(x_2-1)/2,color='k',linestyle='-.',linewidth=1,alpha=0.6)\n",
    "\n",
    "plt.plot(x,J(x),label=r'$J(\\theta)$')\n",
    "plt.plot(small_x(x_1,x_2),tan(small_x(x_1,x_2),x_1,x_2),'r--')\n",
    "plt.plot(x_1,J(x_1),'om',x_2,J(x_2),'om')\n",
    "\n",
    "plt.ylim([-2.5,3])\n",
    "plt.xlim([1,3])\n",
    "\n",
    "plt.text(x=x_min, \n",
    "         y=tan(x_min,x_1,x_2)+0.3, \n",
    "         s='T = {:.1f}'.format(slope(x_1,x_2)), \n",
    "         rotation=35, \n",
    "         fontsize=12, \n",
    "         color='red')\n",
    "\n",
    "plt.xticks(ticks=[x_1,x_2],labels=[r'$\\theta_a$',r'$\\theta_b$'],fontsize=16)\n",
    "plt.yticks(ticks=[J(x_1),J(x_2)],labels=['$J_a$','$J_b$'],fontsize=16)\n",
    "plt.legend(fontsize=16)\n",
    "\n",
    "plt.subplot(122)\n",
    "plt.plot(x,J(x),label=r'$J(\\theta)$')\n",
    "plt.plot(small_x(x_1),tan(small_x(x_1),x_1,x_1+h),'r--')\n",
    "plt.plot(small_x(x_3),tan(small_x(x_3),x_3,x_3+h),'r--')\n",
    "plt.plot(small_x(x_min),tan(small_x(x_min),x_min,x_min+h),'r--')\n",
    "plt.plot(x_1,J(x_1),'om',x_3,J(x_3),'om',x_min,J(x_min),'om')\n",
    "\n",
    "plt.text(x=x_1, \n",
    "         y=J(x_1)+0.2, \n",
    "         s='d = {:.1f}'.format(slope(x_1,x_1+h)), \n",
    "         fontsize=12, \n",
    "         color='red')\n",
    "plt.text(x=x_3, \n",
    "         y=J(x_3)+0.2, \n",
    "         s='d = {:.1f}'.format(slope(x_3,x_3+h)), \n",
    "         fontsize=12, \n",
    "         color='red')\n",
    "plt.text(x=x_min-0.12, \n",
    "         y=J(x_min)+0.4, \n",
    "         s='d = {:.1f}'.format(slope(x_min,x_min+h)), \n",
    "         fontsize=12, \n",
    "         color='red')\n",
    "\n",
    "plt.ylim([-2.5,3])\n",
    "plt.xlim([1,3])\n",
    "plt.xticks(ticks=[1,1.5,2,2.5,3],fontsize=13)\n",
    "plt.yticks(ticks=[-2,0,2], fontsize=13)\n",
    "plt.legend(fontsize=16, loc='lower left')\n",
    "plt.savefig(zoidbergInfo.resource_dir / 'derivative.png')"
   ]
  }
 ],
 "metadata": {
  "language_info": {
   "name": "python"
  },
  "orig_nbformat": 4
 },
 "nbformat": 4,
 "nbformat_minor": 2
}
