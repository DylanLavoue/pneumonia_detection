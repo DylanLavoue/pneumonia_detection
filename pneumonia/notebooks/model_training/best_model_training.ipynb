{
 "cells": [
  {
   "cell_type": "code",
   "execution_count": null,
   "metadata": {},
   "outputs": [
    {
     "name": "stderr",
     "output_type": "stream",
     "text": [
      "2023-07-31 15:24:48.770937: I tensorflow/core/util/port.cc:110] oneDNN custom operations are on. You may see slightly different numerical results due to floating-point round-off errors from different computation orders. To turn them off, set the environment variable `TF_ENABLE_ONEDNN_OPTS=0`.\n",
      "2023-07-31 15:24:48.806433: I tensorflow/tsl/cuda/cudart_stub.cc:28] Could not find cuda drivers on your machine, GPU will not be used.\n",
      "2023-07-31 15:24:48.931374: I tensorflow/tsl/cuda/cudart_stub.cc:28] Could not find cuda drivers on your machine, GPU will not be used.\n",
      "2023-07-31 15:24:48.932113: I tensorflow/core/platform/cpu_feature_guard.cc:182] This TensorFlow binary is optimized to use available CPU instructions in performance-critical operations.\n",
      "To enable the following instructions: AVX2 AVX512F AVX512_VNNI FMA, in other operations, rebuild TensorFlow with the appropriate compiler flags.\n",
      "/home/dylan/.local/lib/python3.10/site-packages/tensorflow_addons/utils/tfa_eol_msg.py:23: UserWarning: \n",
      "\n",
      "TensorFlow Addons (TFA) has ended development and introduction of new features.\n",
      "TFA has entered a minimal maintenance and release mode until a planned end of life in May 2024.\n",
      "Please modify downstream libraries to take dependencies from other repositories in our TensorFlow community (e.g. Keras, Keras-CV, and Keras-NLP). \n",
      "\n",
      "For more information see: https://github.com/tensorflow/addons/issues/2807 \n",
      "\n",
      "  warnings.warn(\n"
     ]
    },
    {
     "name": "stdout",
     "output_type": "stream",
     "text": [
      "We're running on Colab\n"
     ]
    },
    {
     "ename": "NameError",
     "evalue": "name 'drive' is not defined",
     "output_type": "error",
     "traceback": [
      "\u001b[0;31m---------------------------------------------------------------------------\u001b[0m",
      "\u001b[0;31mNameError\u001b[0m                                 Traceback (most recent call last)",
      "Cell \u001b[0;32mIn[1], line 34\u001b[0m\n\u001b[1;32m     32\u001b[0m \u001b[39m# Mount google drive\u001b[39;00m\n\u001b[1;32m     33\u001b[0m mounting_point \u001b[39m=\u001b[39m \u001b[39m\"\u001b[39m\u001b[39m/content/drive/\u001b[39m\u001b[39m\"\u001b[39m\n\u001b[0;32m---> 34\u001b[0m drive\u001b[39m.\u001b[39mmount(mounting_point, force_remount\u001b[39m=\u001b[39m\u001b[39mTrue\u001b[39;00m)\n\u001b[1;32m     36\u001b[0m \u001b[39m# Add project directory to kernel paths\u001b[39;00m\n\u001b[1;32m     37\u001b[0m drive_folder \u001b[39m=\u001b[39m \u001b[39m\"\u001b[39m\u001b[39mMyDrive/pneumonia_detection/T-DEV-810-PAR_10\u001b[39m\u001b[39m\"\u001b[39m\n",
      "\u001b[0;31mNameError\u001b[0m: name 'drive' is not defined"
     ]
    }
   ],
   "source": [
    "# Import base librairies\n",
    "import sys\n",
    "import os\n",
    "import json\n",
    "from pathlib import Path\n",
    "import time\n",
    "\n",
    "# Import scientific librairies\n",
    "import pandas as pd\n",
    "import numpy as np\n",
    "import matplotlib.pyplot as plt\n",
    "import seaborn as sns\n",
    "\n",
    "# Import Tensorflow and Keras\n",
    "import tensorflow as tf\n",
    "from tensorflow import keras\n",
    "import tensorflow_addons as tfa\n",
    "from tensorflow.keras import regularizers\n",
    "# Import scikit-learn\n",
    "from sklearn.utils import class_weight\n",
    "\n",
    "# Check running environment\n",
    "try:\n",
    "    from google.colab import drive\n",
    "    IN_COLAB=True\n",
    "except:\n",
    "    IN_COLAB=True\n",
    "    \n",
    "if IN_COLAB:\n",
    "    print(\"We're running on Colab\")\n",
    "    \n",
    "    # Mount google drive\n",
    "    mounting_point = \"/content/drive/\"\n",
    "    drive.mount(mounting_point, force_remount=True)\n",
    "\n",
    "    # Add project directory to kernel paths\n",
    "    drive_folder = \"MyDrive/pneumonia_detection/T-DEV-810-PAR_10\"\n",
    "    \n",
    "    sys.path.append(mounting_point + drive_folder)\n",
    "else:\n",
    "    print(\"We're running localy\")\n",
    "    \n",
    "    # Add project directory to kernel paths\n",
    "    sys.path.append('../../')"
   ]
  },
  {
   "cell_type": "code",
   "execution_count": null,
   "metadata": {},
   "outputs": [
    {
     "name": "stdout",
     "output_type": "stream",
     "text": [
      "Selected distribution strategy:                     _DefaultDistributionStrategy\n"
     ]
    },
    {
     "name": "stderr",
     "output_type": "stream",
     "text": [
      "2023-05-20 19:06:03.254546: E tensorflow/compiler/xla/stream_executor/cuda/cuda_driver.cc:266] failed call to cuInit: CUDA_ERROR_NO_DEVICE: no CUDA-capable device is detected\n"
     ]
    }
   ],
   "source": [
    "# Import custom functions\n",
    "\n",
    "from src.data.file_manager import FileManager\n",
    "from src.data.tf_utils import load_image_dataset_from_tfrecord, define_distribute_strategy\n",
    "from src.data.evaluation import Evaluation\n",
    "\n",
    "zoidbergManager = FileManager()\n",
    "strategy = define_distribute_strategy()\n",
    "evaluation = Evaluation(strategy)\n"
   ]
  },
  {
   "attachments": {},
   "cell_type": "markdown",
   "metadata": {},
   "source": []
  },
  {
   "cell_type": "code",
   "execution_count": null,
   "metadata": {},
   "outputs": [],
   "source": [
    "EPOCHS = 30\n",
    "LEARNING_RATE = 0.0001\n",
    "\n",
    "TRAIN_VGG16 = False\n",
    "TRAIN_NASNETLARGE = False\n",
    "TRAIN_INCEPTION_RESNET = False\n",
    "TRAIN_EFFICIENTNETV2M = False\n",
    "TRAIN_EFFICIENTNETB0 = True"
   ]
  },
  {
   "cell_type": "code",
   "execution_count": null,
   "metadata": {},
   "outputs": [],
   "source": [
    "TRAIN_EFFICIENTNETB0 = False"
   ]
  },
  {
   "cell_type": "code",
   "execution_count": null,
   "metadata": {},
   "outputs": [],
   "source": [
    "BATCH_SIZE = 64\n",
    "SMALL_TRAIN_SPLIT = 0.20\n",
    "SMALL_VAL_SPLIT = 0.15"
   ]
  },
  {
   "cell_type": "code",
   "execution_count": null,
   "metadata": {},
   "outputs": [
    {
     "name": "stdout",
     "output_type": "stream",
     "text": [
      "/home/dylan/Desktop/Pneumonia/pneumonia_detection/pneumonia/notebooks/model_training/../../data/processed\n"
     ]
    }
   ],
   "source": [
    "processed_dir_path = zoidbergManager.data_dir / 'processed'\n",
    "print(processed_dir_path)\n",
    "\n",
    "train_path = str(processed_dir_path / 'train_512x512_rgb_ds.tfrecord')\n",
    "val_path = str(processed_dir_path / 'val_512x512_rgb_ds.tfrecord')\n",
    "\n",
    "train_ds = load_image_dataset_from_tfrecord(train_path)\n",
    "val_ds = load_image_dataset_from_tfrecord(val_path)"
   ]
  },
  {
   "cell_type": "code",
   "execution_count": null,
   "metadata": {},
   "outputs": [
    {
     "name": "stderr",
     "output_type": "stream",
     "text": [
      "2023-05-20 19:06:03.624158: I tensorflow/core/common_runtime/executor.cc:1197] [/device:CPU:0] (DEBUG INFO) Executor start aborting (this does not indicate an error and you can ignore this message): INVALID_ARGUMENT: You must feed a value for placeholder tensor 'Placeholder/_0' with dtype string and shape [1]\n",
      "\t [[{{node Placeholder/_0}}]]\n",
      "2023-05-20 19:06:05.556150: I tensorflow/core/common_runtime/executor.cc:1197] [/device:CPU:0] (DEBUG INFO) Executor start aborting (this does not indicate an error and you can ignore this message): INVALID_ARGUMENT: You must feed a value for placeholder tensor 'Placeholder/_0' with dtype string and shape [1]\n",
      "\t [[{{node Placeholder/_0}}]]\n"
     ]
    }
   ],
   "source": [
    "num_train_img = train_ds.reduce(0, lambda x, _: x + 1).numpy()\n",
    "num_val_img = val_ds.reduce(0, lambda x, _: x + 1).numpy()\n",
    "\n",
    "# Shuffle data\n",
    "train_ds = train_ds.shuffle(buffer_size=num_train_img, seed=42)\n",
    "val_ds = val_ds.shuffle(buffer_size=num_val_img, seed=42)\n",
    "\n",
    "# Extract a sample\n",
    "small_train_size = int(num_train_img * SMALL_TRAIN_SPLIT)\n",
    "small_val_size = int(num_val_img * SMALL_VAL_SPLIT)\n",
    "\n",
    "small_train_ds = train_ds.take(small_train_size)\n",
    "small_val_ds = val_ds.take(small_val_size)"
   ]
  },
  {
   "cell_type": "code",
   "execution_count": null,
   "metadata": {},
   "outputs": [
    {
     "name": "stderr",
     "output_type": "stream",
     "text": [
      "2023-05-20 19:06:05.732363: I tensorflow/core/common_runtime/executor.cc:1197] [/device:CPU:0] (DEBUG INFO) Executor start aborting (this does not indicate an error and you can ignore this message): INVALID_ARGUMENT: You must feed a value for placeholder tensor 'Placeholder/_0' with dtype string and shape [1]\n",
      "\t [[{{node Placeholder/_0}}]]\n"
     ]
    }
   ],
   "source": [
    "y_train_iterator = train_ds.map(lambda x, y: y).as_numpy_iterator()\n",
    "y_train = []\n",
    "for one_vector in y_train_iterator:\n",
    "    y_train.append(one_vector)\n",
    "y_train = np.argmax(y_train, axis=1)\n",
    "\n",
    "class_weights = class_weight.compute_class_weight('balanced', classes=np.unique(y_train), y=y_train)\n",
    "class_weights\n",
    "dic_class_weights = {}\n",
    "for idx, weight in enumerate(class_weights):\n",
    "    dic_class_weights[idx] = weight"
   ]
  },
  {
   "cell_type": "code",
   "execution_count": null,
   "metadata": {},
   "outputs": [],
   "source": [
    "def checkpoint_cb(model):\n",
    "    checkpoint_dir = zoidbergManager.model_dir / 'checkpoints'\n",
    "    checkpoint_filepath = checkpoint_dir / f'ckpt_smallds_{model.name}.h5'\n",
    "    ckpt_cb = keras.callbacks.ModelCheckpoint(\n",
    "        filepath=checkpoint_filepath,\n",
    "        monitor='val_CKS',\n",
    "        mode='max',\n",
    "        save_best_only=True\n",
    "    )\n",
    "    return ckpt_cb"
   ]
  },
  {
   "cell_type": "code",
   "execution_count": null,
   "metadata": {},
   "outputs": [],
   "source": [
    "def save_history(model, history, training_time):\n",
    "    dic = {}\n",
    "    dic['history'] = history.history\n",
    "    dic['training_time'] = training_time\n",
    "    dic['epoch_time'] = training_time/len(history.history['loss'])\n",
    "    history_dir = zoidbergManager.model_dir / 'histories'\n",
    "    history_filepath = history_dir / f'hty_smallds_{model.name}.json'\n",
    "    json.dump(dic, open(history_filepath, 'w'))\n",
    "\n",
    "def train_model(model, save=True):\n",
    "    start_time = time.time()\n",
    "    history = model.fit(small_train_ds,\n",
    "                        validation_data=small_val_ds,\n",
    "                        epochs=EPOCHS,\n",
    "                        class_weight=dic_class_weights,\n",
    "                        callbacks=[checkpoint_cb(model)],\n",
    "                        )\n",
    "    training_time = time.time() - start_time\n",
    "\n",
    "    if save:\n",
    "        save_history(model, history, training_time)\n",
    "\n",
    "    return history, training_time"
   ]
  },
  {
   "cell_type": "code",
   "execution_count": null,
   "metadata": {},
   "outputs": [],
   "source": [
    "def make_efficientnetb0(dropout_rate=0.2, l1=0.01, l2=0.01):\n",
    "    base_efficientnetb0 = tf.keras.applications.EfficientNetV2B0(weights='imagenet', input_shape=(224,224,3), include_top=False)\n",
    "    for layer in base_efficientnetb0.layers:\n",
    "        layer.trainable = True\n",
    "\n",
    "    efficientnetb0 = tf.keras.Sequential([\n",
    "        # keras.layers.InputLayer(input_shape=(512,512,3), name='input'),\n",
    "        keras.layers.Resizing(224, 224, interpolation=\"bilinear\", name='resize'),\n",
    "        base_efficientnetb0,\n",
    "        keras.layers.GlobalAveragePooling2D(name='avg_pool'),\n",
    "        keras.layers.Dense(1024, activation='relu', name='fully_conn1', kernel_regularizer=regularizers.l1_l2(l1=l1, l2=l2)),\n",
    "        keras.layers.Dropout(dropout_rate),\n",
    "        keras.layers.Dense(512, activation='relu', name='fully_conn2', kernel_regularizer=regularizers.l1_l2(l1=l1, l2=l2)),\n",
    "        keras.layers.Dropout(dropout_rate),\n",
    "        keras.layers.Dense(3, activation='softmax', name='out_softmax'),\n",
    "    ], name='efficientnetb0')\n",
    "\n",
    "    efficientnetb0.compile(optimizer=keras.optimizers.Adam(learning_rate=LEARNING_RATE),\n",
    "                           loss='categorical_crossentropy',\n",
    "                           metrics=evaluation.get_training_metrics()\n",
    "                          )\n",
    "    return efficientnetb0\n",
    "\n",
    "with strategy.scope():\n",
    "    efficientnetb0 = make_efficientnetb0()"
   ]
  },
  {
   "cell_type": "code",
   "execution_count": null,
   "metadata": {},
   "outputs": [],
   "source": [
    "if TRAIN_EFFICIENTNETB0:\n",
    "    efficientnetb0_history, efficientnetb0_time = train_model(efficientnetb0, save=True)"
   ]
  },
  {
   "cell_type": "code",
   "execution_count": null,
   "metadata": {},
   "outputs": [],
   "source": [
    "history_path = {\n",
    "    'efficientnetb0' : zoidbergManager.model_dir / 'histories' / 'hty_smallds_efficientnetb0.json'\n",
    "}\n",
    "\n",
    "checkpoint_path = {\n",
    "    'efficientnetb0' : zoidbergManager.model_dir / 'checkpoints' / 'ckpt_smallds_efficientnetb0.h5'\n",
    "}\n",
    "\n",
    "sumup_result_df = pd.DataFrame(columns=['model','size','training_time','max CKS','max val_CKS'])\n",
    "histories = {}\n",
    "# The for loop iterates over each model name and corresponding history path.\n",
    "# It reads the training history from the JSON file and stores it in the histories dictionary.\n",
    "for model_name, path in history_path.items():\n",
    "    with open(path) as file:\n",
    "# extracts the relevant information from the history \n",
    "        history = json.load(file)\n",
    "    histories[model_name] = history['history']\n"
   ]
  },
  {
   "cell_type": "code",
   "execution_count": null,
   "metadata": {},
   "outputs": [],
   "source": [
    "cks_history = {}\n",
    "for model, history in histories.items():\n",
    "    cks_history[model] = history['val_CKS']"
   ]
  },
  {
   "cell_type": "code",
   "execution_count": null,
   "metadata": {},
   "outputs": [
    {
     "data": {
      "image/png": "[encoded data removed]",
      "text/plain": [
       "<Figure size 1205.25x250 with 1 Axes>"
      ]
     },
     "metadata": {},
     "output_type": "display_data"
    }
   ],
   "source": [
    "epochs = list(range(1,EPOCHS+1))\n",
    "full_cks_history = []\n",
    "for model, history in histories.items():\n",
    "    data = {}\n",
    "    data['epoch'] = epochs\n",
    "    data['model'] = [model]*EPOCHS\n",
    "    data['CKS'] = history['CKS']\n",
    "    data['val_CKS'] = history['val_CKS']\n",
    "    full_cks_history.append(pd.DataFrame.from_dict(data))\n",
    "full_cks_history_df = pd.concat(full_cks_history)\n",
    "\n",
    "sns.set_style('ticks')\n",
    "rp = sns.relplot(\n",
    "    data=pd.melt(full_cks_history_df,['epoch','model']),\n",
    "    x=\"epoch\",\n",
    "    y=\"value\",\n",
    "    hue=\"variable\",\n",
    "    col=\"model\",\n",
    "    col_wrap=2,\n",
    "    height=2.5,\n",
    "    aspect=2.2,\n",
    "    kind=\"line\"\n",
    ")\n",
    "rp.fig.suptitle('Learning curves', fontsize=14)\n",
    "rp.fig.subplots_adjust(top=0.9)\n",
    "sns.move_legend(rp,\n",
    "                'center',\n",
    "                bbox_to_anchor=(.7, .18),\n",
    "                fontsize=14,\n",
    "                title_fontsize=14,\n",
    "                frameon=True,\n",
    "                borderpad=1)"
   ]
  }
 ],
 "metadata": {
  "kernelspec": {
   "display_name": "Python 3",
   "language": "python",
   "name": "python3"
  },
  "language_info": {
   "codemirror_mode": {
    "name": "ipython",
    "version": 3
   },
   "file_extension": ".py",
   "mimetype": "text/x-python",
   "name": "python",
   "nbconvert_exporter": "python",
   "pygments_lexer": "ipython3",
   "version": "3.10.6"
  },
  "orig_nbformat": 4
 },
 "nbformat": 4,
 "nbformat_minor": 2
}
